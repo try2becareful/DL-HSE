{
 "cells": [
  {
   "cell_type": "markdown",
   "metadata": {
    "id": "Q_upCOEI3Upu"
   },
   "source": [
    "# Введение в глубинное обучение, ФКН ВШЭ\n",
    "\n",
    "## Домашнее задание 1. Введение в PyTorch. Полносвязные нейронные сети.\n",
    "\n",
    "### Общая информация\n",
    "\n",
    "Дата выдачи: 05.10.2021\n",
    "\n",
    "Мягкий дедлайн: 23:59MSK 19.10.2021\n",
    "\n",
    "Жесткий дедлайн: 23:59MSK 23.10.2021\n",
    "\n",
    "Оценка после штрафа после мягкого дедлайна вычисляется по формуле $M_{penalty} = M_{full} \\cdot 0.85^{t/1440}$, где $M_{full}$ &mdash; полная оценка за работу без учета штрафа, а $t$ &mdash; время в минутах, прошедшее после мягкого дедлайна (округление до двух цифр после запятой). Таким образом, спустя первые сутки после мягкого дедлайна вы не можете получить оценку выше **8.5**, а если сдать перед самым жестким дедлайном, то ваш максимум &mdash; **5.22** балла.\n",
    "\n",
    "### Оценивание и штрафы\n",
    "Максимально допустимая оценка за работу — 10 баллов. Сдавать задание после указанного срока сдачи нельзя.\n",
    "\n",
    "Задание выполняется самостоятельно. «Похожие» решения считаются плагиатом и все задействованные студенты (в том числе те, у кого списали) не могут получить за него больше 0 баллов. Если вы нашли решение какого-то из заданий (или его часть) в открытом источнике, необходимо указать ссылку на этот источник в отдельном блоке в конце вашей работы (скорее всего вы будете не единственным, кто это нашел, поэтому чтобы исключить подозрение в плагиате, необходима ссылка на источник).\n",
    "\n",
    "Неэффективная реализация кода может негативно отразиться на оценке.\n",
    "Также оценка может быть снижена за плохо читаемый код и плохо оформленные графики. Все ответы должны сопровождаться кодом или комментариями о том, как они были получены.\n",
    "\n",
    "### О задании\n",
    "\n",
    "В этом задании вам предстоит предсказывать год выпуска песни по некоторым звуковым признакам: [данные](https://archive.ics.uci.edu/ml/datasets/yearpredictionmsd). В ячейках ниже находится код для загрузки данных. Обратите внимание, что обучающая и тестовая выборки располагаются в одном файле, поэтому НЕ меняйте ячейку, в которой производится деление данных."
   ]
  },
  {
   "cell_type": "code",
   "execution_count": 118,
   "metadata": {
    "executionInfo": {
     "elapsed": 967,
     "status": "ok",
     "timestamp": 1635451801999,
     "user": {
      "displayName": "Никита Бекетов",
      "photoUrl": "https://lh3.googleusercontent.com/a-/AOh14GioThM8Asm0C9k6A3K7Q3tJARyJV1loB6CCxWz_=s64",
      "userId": "17047624118884984806"
     },
     "user_tz": -180
    },
    "id": "RI_eoe063VaP"
   },
   "outputs": [],
   "source": [
    "import torch\n",
    "from torch import nn\n",
    "import pandas as pd\n",
    "import numpy as np\n",
    "import random\n",
    "from sklearn.metrics import mean_squared_error\n",
    "from tqdm.notebook import tqdm\n",
    "from sklearn.preprocessing import StandardScaler\n",
    "from sklearn.linear_model import Ridge\n",
    "from torch.nn import functional as F\n",
    "from torch.utils.data import Dataset, DataLoader\n",
    "from tqdm import tqdm_notebook\n",
    "from sklearn.model_selection import train_test_split\n",
    "from IPython.display import display, clear_output\n",
    "import matplotlib.pyplot as plt\n",
    "import seaborn as sns"
   ]
  },
  {
   "cell_type": "code",
   "execution_count": 119,
   "metadata": {
    "colab": {
     "base_uri": "https://localhost:8080/"
    },
    "executionInfo": {
     "elapsed": 4963,
     "status": "ok",
     "timestamp": 1635451807278,
     "user": {
      "displayName": "Никита Бекетов",
      "photoUrl": "https://lh3.googleusercontent.com/a-/AOh14GioThM8Asm0C9k6A3K7Q3tJARyJV1loB6CCxWz_=s64",
      "userId": "17047624118884984806"
     },
     "user_tz": -180
    },
    "id": "7NgSZeU-7vgj",
    "outputId": "26e476d6-2f37-4c7d-b7a9-e0c3f62ffd74"
   },
   "outputs": [
    {
     "name": "stdout",
     "output_type": "stream",
     "text": [
      "--2021-10-28 20:10:42--  https://archive.ics.uci.edu/ml/machine-learning-databases/00203/YearPredictionMSD.txt.zip\n",
      "Resolving archive.ics.uci.edu (archive.ics.uci.edu)... 128.195.10.252\n",
      "Connecting to archive.ics.uci.edu (archive.ics.uci.edu)|128.195.10.252|:443... connected.\n",
      "HTTP request sent, awaiting response... 200 OK\n",
      "Length: 211011981 (201M) [application/x-httpd-php]\n",
      "Saving to: ‘data.txt.zip’\n",
      "\n",
      "data.txt.zip        100%[===================>] 201.24M  52.1MB/s    in 4.2s    \n",
      "\n",
      "2021-10-28 20:10:46 (48.0 MB/s) - ‘data.txt.zip’ saved [211011981/211011981]\n",
      "\n"
     ]
    }
   ],
   "source": [
    "!wget -O data.txt.zip https://archive.ics.uci.edu/ml/machine-learning-databases/00203/YearPredictionMSD.txt.zip"
   ]
  },
  {
   "cell_type": "code",
   "execution_count": 120,
   "metadata": {
    "colab": {
     "base_uri": "https://localhost:8080/",
     "height": 253
    },
    "executionInfo": {
     "elapsed": 9574,
     "status": "ok",
     "timestamp": 1635451816845,
     "user": {
      "displayName": "Никита Бекетов",
      "photoUrl": "https://lh3.googleusercontent.com/a-/AOh14GioThM8Asm0C9k6A3K7Q3tJARyJV1loB6CCxWz_=s64",
      "userId": "17047624118884984806"
     },
     "user_tz": -180
    },
    "id": "DSVJZzkJ7zZE",
    "outputId": "ba9f490a-0515-4788-d69a-917ac4a70289"
   },
   "outputs": [
    {
     "data": {
      "text/html": [
       "<div>\n",
       "<style scoped>\n",
       "    .dataframe tbody tr th:only-of-type {\n",
       "        vertical-align: middle;\n",
       "    }\n",
       "\n",
       "    .dataframe tbody tr th {\n",
       "        vertical-align: top;\n",
       "    }\n",
       "\n",
       "    .dataframe thead th {\n",
       "        text-align: right;\n",
       "    }\n",
       "</style>\n",
       "<table border=\"1\" class=\"dataframe\">\n",
       "  <thead>\n",
       "    <tr style=\"text-align: right;\">\n",
       "      <th></th>\n",
       "      <th>0</th>\n",
       "      <th>1</th>\n",
       "      <th>2</th>\n",
       "      <th>3</th>\n",
       "      <th>4</th>\n",
       "      <th>5</th>\n",
       "      <th>6</th>\n",
       "      <th>7</th>\n",
       "      <th>8</th>\n",
       "      <th>9</th>\n",
       "      <th>10</th>\n",
       "      <th>11</th>\n",
       "      <th>12</th>\n",
       "      <th>13</th>\n",
       "      <th>14</th>\n",
       "      <th>15</th>\n",
       "      <th>16</th>\n",
       "      <th>17</th>\n",
       "      <th>18</th>\n",
       "      <th>19</th>\n",
       "      <th>20</th>\n",
       "      <th>21</th>\n",
       "      <th>22</th>\n",
       "      <th>23</th>\n",
       "      <th>24</th>\n",
       "      <th>25</th>\n",
       "      <th>26</th>\n",
       "      <th>27</th>\n",
       "      <th>28</th>\n",
       "      <th>29</th>\n",
       "      <th>30</th>\n",
       "      <th>31</th>\n",
       "      <th>32</th>\n",
       "      <th>33</th>\n",
       "      <th>34</th>\n",
       "      <th>35</th>\n",
       "      <th>36</th>\n",
       "      <th>37</th>\n",
       "      <th>38</th>\n",
       "      <th>39</th>\n",
       "      <th>...</th>\n",
       "      <th>51</th>\n",
       "      <th>52</th>\n",
       "      <th>53</th>\n",
       "      <th>54</th>\n",
       "      <th>55</th>\n",
       "      <th>56</th>\n",
       "      <th>57</th>\n",
       "      <th>58</th>\n",
       "      <th>59</th>\n",
       "      <th>60</th>\n",
       "      <th>61</th>\n",
       "      <th>62</th>\n",
       "      <th>63</th>\n",
       "      <th>64</th>\n",
       "      <th>65</th>\n",
       "      <th>66</th>\n",
       "      <th>67</th>\n",
       "      <th>68</th>\n",
       "      <th>69</th>\n",
       "      <th>70</th>\n",
       "      <th>71</th>\n",
       "      <th>72</th>\n",
       "      <th>73</th>\n",
       "      <th>74</th>\n",
       "      <th>75</th>\n",
       "      <th>76</th>\n",
       "      <th>77</th>\n",
       "      <th>78</th>\n",
       "      <th>79</th>\n",
       "      <th>80</th>\n",
       "      <th>81</th>\n",
       "      <th>82</th>\n",
       "      <th>83</th>\n",
       "      <th>84</th>\n",
       "      <th>85</th>\n",
       "      <th>86</th>\n",
       "      <th>87</th>\n",
       "      <th>88</th>\n",
       "      <th>89</th>\n",
       "      <th>90</th>\n",
       "    </tr>\n",
       "  </thead>\n",
       "  <tbody>\n",
       "    <tr>\n",
       "      <th>0</th>\n",
       "      <td>2001</td>\n",
       "      <td>49.94357</td>\n",
       "      <td>21.47114</td>\n",
       "      <td>73.07750</td>\n",
       "      <td>8.74861</td>\n",
       "      <td>-17.40628</td>\n",
       "      <td>-13.09905</td>\n",
       "      <td>-25.01202</td>\n",
       "      <td>-12.23257</td>\n",
       "      <td>7.83089</td>\n",
       "      <td>-2.46783</td>\n",
       "      <td>3.32136</td>\n",
       "      <td>-2.31521</td>\n",
       "      <td>10.20556</td>\n",
       "      <td>611.10913</td>\n",
       "      <td>951.08960</td>\n",
       "      <td>698.11428</td>\n",
       "      <td>408.98485</td>\n",
       "      <td>383.70912</td>\n",
       "      <td>326.51512</td>\n",
       "      <td>238.11327</td>\n",
       "      <td>251.42414</td>\n",
       "      <td>187.17351</td>\n",
       "      <td>100.42652</td>\n",
       "      <td>179.19498</td>\n",
       "      <td>-8.41558</td>\n",
       "      <td>-317.87038</td>\n",
       "      <td>95.86266</td>\n",
       "      <td>48.10259</td>\n",
       "      <td>-95.66303</td>\n",
       "      <td>-18.06215</td>\n",
       "      <td>1.96984</td>\n",
       "      <td>34.42438</td>\n",
       "      <td>11.72670</td>\n",
       "      <td>1.36790</td>\n",
       "      <td>7.79444</td>\n",
       "      <td>-0.36994</td>\n",
       "      <td>-133.67852</td>\n",
       "      <td>-83.26165</td>\n",
       "      <td>-37.29765</td>\n",
       "      <td>...</td>\n",
       "      <td>-25.38187</td>\n",
       "      <td>-3.90772</td>\n",
       "      <td>13.29258</td>\n",
       "      <td>41.55060</td>\n",
       "      <td>-7.26272</td>\n",
       "      <td>-21.00863</td>\n",
       "      <td>105.50848</td>\n",
       "      <td>64.29856</td>\n",
       "      <td>26.08481</td>\n",
       "      <td>-44.59110</td>\n",
       "      <td>-8.30657</td>\n",
       "      <td>7.93706</td>\n",
       "      <td>-10.73660</td>\n",
       "      <td>-95.44766</td>\n",
       "      <td>-82.03307</td>\n",
       "      <td>-35.59194</td>\n",
       "      <td>4.69525</td>\n",
       "      <td>70.95626</td>\n",
       "      <td>28.09139</td>\n",
       "      <td>6.02015</td>\n",
       "      <td>-37.13767</td>\n",
       "      <td>-41.12450</td>\n",
       "      <td>-8.40816</td>\n",
       "      <td>7.19877</td>\n",
       "      <td>-8.60176</td>\n",
       "      <td>-5.90857</td>\n",
       "      <td>-12.32437</td>\n",
       "      <td>14.68734</td>\n",
       "      <td>-54.32125</td>\n",
       "      <td>40.14786</td>\n",
       "      <td>13.01620</td>\n",
       "      <td>-54.40548</td>\n",
       "      <td>58.99367</td>\n",
       "      <td>15.37344</td>\n",
       "      <td>1.11144</td>\n",
       "      <td>-23.08793</td>\n",
       "      <td>68.40795</td>\n",
       "      <td>-1.82223</td>\n",
       "      <td>-27.46348</td>\n",
       "      <td>2.26327</td>\n",
       "    </tr>\n",
       "    <tr>\n",
       "      <th>1</th>\n",
       "      <td>2001</td>\n",
       "      <td>48.73215</td>\n",
       "      <td>18.42930</td>\n",
       "      <td>70.32679</td>\n",
       "      <td>12.94636</td>\n",
       "      <td>-10.32437</td>\n",
       "      <td>-24.83777</td>\n",
       "      <td>8.76630</td>\n",
       "      <td>-0.92019</td>\n",
       "      <td>18.76548</td>\n",
       "      <td>4.59210</td>\n",
       "      <td>2.21920</td>\n",
       "      <td>0.34006</td>\n",
       "      <td>44.38997</td>\n",
       "      <td>2056.93836</td>\n",
       "      <td>605.40696</td>\n",
       "      <td>457.41175</td>\n",
       "      <td>777.15347</td>\n",
       "      <td>415.64880</td>\n",
       "      <td>746.47775</td>\n",
       "      <td>366.45320</td>\n",
       "      <td>317.82946</td>\n",
       "      <td>273.07917</td>\n",
       "      <td>141.75921</td>\n",
       "      <td>317.35269</td>\n",
       "      <td>19.48271</td>\n",
       "      <td>-65.25496</td>\n",
       "      <td>162.75145</td>\n",
       "      <td>135.00765</td>\n",
       "      <td>-96.28436</td>\n",
       "      <td>-86.87955</td>\n",
       "      <td>17.38087</td>\n",
       "      <td>45.90742</td>\n",
       "      <td>32.49908</td>\n",
       "      <td>-32.85429</td>\n",
       "      <td>45.10830</td>\n",
       "      <td>26.84939</td>\n",
       "      <td>-302.57328</td>\n",
       "      <td>-41.71932</td>\n",
       "      <td>-138.85034</td>\n",
       "      <td>...</td>\n",
       "      <td>28.55107</td>\n",
       "      <td>1.52298</td>\n",
       "      <td>70.99515</td>\n",
       "      <td>-43.63073</td>\n",
       "      <td>-42.55014</td>\n",
       "      <td>129.82848</td>\n",
       "      <td>79.95420</td>\n",
       "      <td>-87.14554</td>\n",
       "      <td>-45.75446</td>\n",
       "      <td>-65.82100</td>\n",
       "      <td>-43.90031</td>\n",
       "      <td>-19.45705</td>\n",
       "      <td>12.59163</td>\n",
       "      <td>-407.64130</td>\n",
       "      <td>42.91189</td>\n",
       "      <td>12.15850</td>\n",
       "      <td>-88.37882</td>\n",
       "      <td>42.25246</td>\n",
       "      <td>46.49209</td>\n",
       "      <td>-30.17747</td>\n",
       "      <td>45.98495</td>\n",
       "      <td>130.47892</td>\n",
       "      <td>13.88281</td>\n",
       "      <td>-4.00055</td>\n",
       "      <td>17.85965</td>\n",
       "      <td>-18.32138</td>\n",
       "      <td>-87.99109</td>\n",
       "      <td>14.37524</td>\n",
       "      <td>-22.70119</td>\n",
       "      <td>-58.81266</td>\n",
       "      <td>5.66812</td>\n",
       "      <td>-19.68073</td>\n",
       "      <td>33.04964</td>\n",
       "      <td>42.87836</td>\n",
       "      <td>-9.90378</td>\n",
       "      <td>-32.22788</td>\n",
       "      <td>70.49388</td>\n",
       "      <td>12.04941</td>\n",
       "      <td>58.43453</td>\n",
       "      <td>26.92061</td>\n",
       "    </tr>\n",
       "    <tr>\n",
       "      <th>2</th>\n",
       "      <td>2001</td>\n",
       "      <td>50.95714</td>\n",
       "      <td>31.85602</td>\n",
       "      <td>55.81851</td>\n",
       "      <td>13.41693</td>\n",
       "      <td>-6.57898</td>\n",
       "      <td>-18.54940</td>\n",
       "      <td>-3.27872</td>\n",
       "      <td>-2.35035</td>\n",
       "      <td>16.07017</td>\n",
       "      <td>1.39518</td>\n",
       "      <td>2.73553</td>\n",
       "      <td>0.82804</td>\n",
       "      <td>7.46586</td>\n",
       "      <td>699.54544</td>\n",
       "      <td>1016.00954</td>\n",
       "      <td>594.06748</td>\n",
       "      <td>355.73663</td>\n",
       "      <td>507.39931</td>\n",
       "      <td>387.69910</td>\n",
       "      <td>287.15347</td>\n",
       "      <td>112.37152</td>\n",
       "      <td>161.68928</td>\n",
       "      <td>144.14353</td>\n",
       "      <td>199.29693</td>\n",
       "      <td>-4.24359</td>\n",
       "      <td>-297.00587</td>\n",
       "      <td>-148.36392</td>\n",
       "      <td>-7.94726</td>\n",
       "      <td>-18.71630</td>\n",
       "      <td>12.77542</td>\n",
       "      <td>-25.37725</td>\n",
       "      <td>9.71410</td>\n",
       "      <td>0.13843</td>\n",
       "      <td>26.79723</td>\n",
       "      <td>6.30760</td>\n",
       "      <td>28.70107</td>\n",
       "      <td>-74.89005</td>\n",
       "      <td>-289.19553</td>\n",
       "      <td>-166.26089</td>\n",
       "      <td>...</td>\n",
       "      <td>18.50939</td>\n",
       "      <td>16.97216</td>\n",
       "      <td>24.26629</td>\n",
       "      <td>-10.50788</td>\n",
       "      <td>-8.68412</td>\n",
       "      <td>54.75759</td>\n",
       "      <td>194.74034</td>\n",
       "      <td>7.95966</td>\n",
       "      <td>-18.22685</td>\n",
       "      <td>0.06463</td>\n",
       "      <td>-2.63069</td>\n",
       "      <td>26.02561</td>\n",
       "      <td>1.75729</td>\n",
       "      <td>-262.36917</td>\n",
       "      <td>-233.60089</td>\n",
       "      <td>-2.50502</td>\n",
       "      <td>-12.14279</td>\n",
       "      <td>81.37617</td>\n",
       "      <td>2.07554</td>\n",
       "      <td>-1.82381</td>\n",
       "      <td>183.65292</td>\n",
       "      <td>22.64797</td>\n",
       "      <td>-39.98887</td>\n",
       "      <td>43.37381</td>\n",
       "      <td>-31.56737</td>\n",
       "      <td>-4.88840</td>\n",
       "      <td>-36.53213</td>\n",
       "      <td>-23.94662</td>\n",
       "      <td>-84.19275</td>\n",
       "      <td>66.00518</td>\n",
       "      <td>3.03800</td>\n",
       "      <td>26.05866</td>\n",
       "      <td>-50.92779</td>\n",
       "      <td>10.93792</td>\n",
       "      <td>-0.07568</td>\n",
       "      <td>43.20130</td>\n",
       "      <td>-115.00698</td>\n",
       "      <td>-0.05859</td>\n",
       "      <td>39.67068</td>\n",
       "      <td>-0.66345</td>\n",
       "    </tr>\n",
       "    <tr>\n",
       "      <th>3</th>\n",
       "      <td>2001</td>\n",
       "      <td>48.24750</td>\n",
       "      <td>-1.89837</td>\n",
       "      <td>36.29772</td>\n",
       "      <td>2.58776</td>\n",
       "      <td>0.97170</td>\n",
       "      <td>-26.21683</td>\n",
       "      <td>5.05097</td>\n",
       "      <td>-10.34124</td>\n",
       "      <td>3.55005</td>\n",
       "      <td>-6.36304</td>\n",
       "      <td>6.63016</td>\n",
       "      <td>-3.35142</td>\n",
       "      <td>37.64085</td>\n",
       "      <td>2174.08189</td>\n",
       "      <td>697.43346</td>\n",
       "      <td>459.24587</td>\n",
       "      <td>742.78961</td>\n",
       "      <td>229.30783</td>\n",
       "      <td>387.89697</td>\n",
       "      <td>249.06662</td>\n",
       "      <td>245.89870</td>\n",
       "      <td>176.20527</td>\n",
       "      <td>98.82222</td>\n",
       "      <td>150.97286</td>\n",
       "      <td>78.49057</td>\n",
       "      <td>-62.00282</td>\n",
       "      <td>43.49659</td>\n",
       "      <td>-96.42719</td>\n",
       "      <td>-108.96608</td>\n",
       "      <td>14.22854</td>\n",
       "      <td>14.54178</td>\n",
       "      <td>-23.55608</td>\n",
       "      <td>-39.36953</td>\n",
       "      <td>-43.59209</td>\n",
       "      <td>20.83714</td>\n",
       "      <td>35.63919</td>\n",
       "      <td>-181.34947</td>\n",
       "      <td>-93.66614</td>\n",
       "      <td>-90.55616</td>\n",
       "      <td>...</td>\n",
       "      <td>4.56917</td>\n",
       "      <td>-37.32280</td>\n",
       "      <td>4.15159</td>\n",
       "      <td>12.24315</td>\n",
       "      <td>35.02697</td>\n",
       "      <td>-178.89573</td>\n",
       "      <td>82.46573</td>\n",
       "      <td>-20.49425</td>\n",
       "      <td>101.78577</td>\n",
       "      <td>-19.77808</td>\n",
       "      <td>-21.52657</td>\n",
       "      <td>3.36303</td>\n",
       "      <td>-11.63176</td>\n",
       "      <td>51.55411</td>\n",
       "      <td>-50.57576</td>\n",
       "      <td>-28.14755</td>\n",
       "      <td>-83.15795</td>\n",
       "      <td>-7.35260</td>\n",
       "      <td>-22.11505</td>\n",
       "      <td>1.18279</td>\n",
       "      <td>-122.70467</td>\n",
       "      <td>150.57360</td>\n",
       "      <td>24.37468</td>\n",
       "      <td>41.19821</td>\n",
       "      <td>-37.04318</td>\n",
       "      <td>-28.72986</td>\n",
       "      <td>162.19614</td>\n",
       "      <td>22.18309</td>\n",
       "      <td>-8.63509</td>\n",
       "      <td>85.23416</td>\n",
       "      <td>34.57337</td>\n",
       "      <td>-171.70734</td>\n",
       "      <td>-16.96705</td>\n",
       "      <td>-46.67617</td>\n",
       "      <td>-12.51516</td>\n",
       "      <td>82.58061</td>\n",
       "      <td>-72.08993</td>\n",
       "      <td>9.90558</td>\n",
       "      <td>199.62971</td>\n",
       "      <td>18.85382</td>\n",
       "    </tr>\n",
       "    <tr>\n",
       "      <th>4</th>\n",
       "      <td>2001</td>\n",
       "      <td>50.97020</td>\n",
       "      <td>42.20998</td>\n",
       "      <td>67.09964</td>\n",
       "      <td>8.46791</td>\n",
       "      <td>-15.85279</td>\n",
       "      <td>-16.81409</td>\n",
       "      <td>-12.48207</td>\n",
       "      <td>-9.37636</td>\n",
       "      <td>12.63699</td>\n",
       "      <td>0.93609</td>\n",
       "      <td>1.60923</td>\n",
       "      <td>2.19223</td>\n",
       "      <td>47.32082</td>\n",
       "      <td>894.28471</td>\n",
       "      <td>809.86615</td>\n",
       "      <td>318.78559</td>\n",
       "      <td>435.04497</td>\n",
       "      <td>341.61467</td>\n",
       "      <td>334.30734</td>\n",
       "      <td>322.99589</td>\n",
       "      <td>190.61921</td>\n",
       "      <td>235.84715</td>\n",
       "      <td>96.89517</td>\n",
       "      <td>210.58870</td>\n",
       "      <td>5.60463</td>\n",
       "      <td>-199.63958</td>\n",
       "      <td>204.85812</td>\n",
       "      <td>-77.17695</td>\n",
       "      <td>-65.79741</td>\n",
       "      <td>-6.95097</td>\n",
       "      <td>-12.15262</td>\n",
       "      <td>-3.85410</td>\n",
       "      <td>20.68990</td>\n",
       "      <td>-20.30480</td>\n",
       "      <td>37.15045</td>\n",
       "      <td>11.20673</td>\n",
       "      <td>-124.09519</td>\n",
       "      <td>-295.98542</td>\n",
       "      <td>-33.31169</td>\n",
       "      <td>...</td>\n",
       "      <td>45.25506</td>\n",
       "      <td>10.42226</td>\n",
       "      <td>27.88782</td>\n",
       "      <td>-17.12676</td>\n",
       "      <td>-31.54772</td>\n",
       "      <td>-76.86293</td>\n",
       "      <td>41.17343</td>\n",
       "      <td>-138.32535</td>\n",
       "      <td>-53.96905</td>\n",
       "      <td>-21.30266</td>\n",
       "      <td>-24.87362</td>\n",
       "      <td>-2.46595</td>\n",
       "      <td>-4.05003</td>\n",
       "      <td>-56.51161</td>\n",
       "      <td>-34.56445</td>\n",
       "      <td>-5.07092</td>\n",
       "      <td>-47.75605</td>\n",
       "      <td>64.81513</td>\n",
       "      <td>-97.42948</td>\n",
       "      <td>-12.59418</td>\n",
       "      <td>55.23699</td>\n",
       "      <td>28.85657</td>\n",
       "      <td>54.53513</td>\n",
       "      <td>-31.97077</td>\n",
       "      <td>20.03279</td>\n",
       "      <td>-8.07892</td>\n",
       "      <td>-55.12617</td>\n",
       "      <td>26.58961</td>\n",
       "      <td>-10.27183</td>\n",
       "      <td>-30.64232</td>\n",
       "      <td>9.92661</td>\n",
       "      <td>-55.95724</td>\n",
       "      <td>64.92712</td>\n",
       "      <td>-17.72522</td>\n",
       "      <td>-1.49237</td>\n",
       "      <td>-7.50035</td>\n",
       "      <td>51.76631</td>\n",
       "      <td>7.88713</td>\n",
       "      <td>55.66926</td>\n",
       "      <td>28.74903</td>\n",
       "    </tr>\n",
       "  </tbody>\n",
       "</table>\n",
       "<p>5 rows × 91 columns</p>\n",
       "</div>"
      ],
      "text/plain": [
       "     0         1         2         3   ...         87        88         89        90\n",
       "0  2001  49.94357  21.47114  73.07750  ...   68.40795  -1.82223  -27.46348   2.26327\n",
       "1  2001  48.73215  18.42930  70.32679  ...   70.49388  12.04941   58.43453  26.92061\n",
       "2  2001  50.95714  31.85602  55.81851  ... -115.00698  -0.05859   39.67068  -0.66345\n",
       "3  2001  48.24750  -1.89837  36.29772  ...  -72.08993   9.90558  199.62971  18.85382\n",
       "4  2001  50.97020  42.20998  67.09964  ...   51.76631   7.88713   55.66926  28.74903\n",
       "\n",
       "[5 rows x 91 columns]"
      ]
     },
     "execution_count": 120,
     "metadata": {},
     "output_type": "execute_result"
    }
   ],
   "source": [
    "df = pd.read_csv('data.txt.zip', header=None)\n",
    "df.head()"
   ]
  },
  {
   "cell_type": "code",
   "execution_count": 121,
   "metadata": {
    "executionInfo": {
     "elapsed": 19,
     "status": "ok",
     "timestamp": 1635451816847,
     "user": {
      "displayName": "Никита Бекетов",
      "photoUrl": "https://lh3.googleusercontent.com/a-/AOh14GioThM8Asm0C9k6A3K7Q3tJARyJV1loB6CCxWz_=s64",
      "userId": "17047624118884984806"
     },
     "user_tz": -180
    },
    "id": "n4wnRJT1778j"
   },
   "outputs": [],
   "source": [
    "X = df.iloc[:, 1:].values\n",
    "y = df.iloc[:, 0].values\n",
    "\n",
    "train_size = 463715\n",
    "X_train = X[:train_size, :]\n",
    "y_train = y[:train_size]\n",
    "X_test = X[train_size:, :]\n",
    "y_test = y[train_size:]"
   ]
  },
  {
   "cell_type": "markdown",
   "metadata": {
    "id": "_386JE_o5gOd"
   },
   "source": [
    "## Задание 0. (0 баллов, но при невыполнении максимум за все задание &mdash; 0 баллов)\n",
    "\n",
    "Мы будем использовать RMSE как метрику качества. Для самого первого бейзлайна обучите `Ridge` регрессию из `sklearn`. Кроме того, посчитайте качество при наилучшем константном прогнозе."
   ]
  },
  {
   "cell_type": "code",
   "execution_count": 122,
   "metadata": {
    "colab": {
     "base_uri": "https://localhost:8080/"
    },
    "executionInfo": {
     "elapsed": 18,
     "status": "ok",
     "timestamp": 1635451816847,
     "user": {
      "displayName": "Никита Бекетов",
      "photoUrl": "https://lh3.googleusercontent.com/a-/AOh14GioThM8Asm0C9k6A3K7Q3tJARyJV1loB6CCxWz_=s64",
      "userId": "17047624118884984806"
     },
     "user_tz": -180
    },
    "id": "otwuisa56MLr",
    "outputId": "814e0a1f-cdbd-4e51-f4ec-c170d6f5d913"
   },
   "outputs": [
    {
     "data": {
      "text/plain": [
       "10.931035748764902"
      ]
     },
     "execution_count": 122,
     "metadata": {},
     "output_type": "execute_result"
    }
   ],
   "source": [
    "best_const = np.mean(df[0])\n",
    "arr = np.tile(best_const, [len(df[0])])\n",
    "mean_squared_error(y, arr) ** (1/2)"
   ]
  },
  {
   "cell_type": "code",
   "execution_count": 123,
   "metadata": {
    "colab": {
     "base_uri": "https://localhost:8080/"
    },
    "executionInfo": {
     "elapsed": 920,
     "status": "ok",
     "timestamp": 1635451818755,
     "user": {
      "displayName": "Никита Бекетов",
      "photoUrl": "https://lh3.googleusercontent.com/a-/AOh14GioThM8Asm0C9k6A3K7Q3tJARyJV1loB6CCxWz_=s64",
      "userId": "17047624118884984806"
     },
     "user_tz": -180
    },
    "id": "hMwRlHLDyuBy",
    "outputId": "b8499194-daa1-45a0-993a-75b134005f33"
   },
   "outputs": [
    {
     "name": "stdout",
     "output_type": "stream",
     "text": [
      "Test RMSE = 9.5102\n",
      "Train RMSE = 9.5528\n"
     ]
    }
   ],
   "source": [
    "from sklearn.linear_model import Ridge\n",
    "\n",
    "model = Ridge()\n",
    "model.fit(X_train, y_train)\n",
    "y_pred = model.predict(X_test)\n",
    "y_train_pred = model.predict(X_train)\n",
    "\n",
    "print(\"Test RMSE = %.4f\" % mean_squared_error(y_test, y_pred) ** (1/2))\n",
    "print(\"Train RMSE = %.4f\" % mean_squared_error(y_train, y_train_pred) ** (1/2))"
   ]
  },
  {
   "cell_type": "markdown",
   "metadata": {
    "id": "_6ilBKYt6OdD"
   },
   "source": [
    "## Задание 1. (максимум 10 баллов)\n",
    "\n",
    "Реализуйте обучение и тестирование нейронной сети для предоставленного вам набора данных. Соотношение между полученным значением метрики на тестовой выборке и баллами за задание следующее:\n",
    "\n",
    "- $\\text{RMSE} \\le 9.00 $ &mdash; 4 балла\n",
    "- $\\text{RMSE} \\le 8.90 $ &mdash; 6 баллов\n",
    "- $\\text{RMSE} \\le 8.80 $ &mdash; 8 баллов\n",
    "- $\\text{RMSE} \\le 8.75 $ &mdash; 10 баллов\n",
    "\n",
    "Есть несколько правил, которых вам нужно придерживаться:\n",
    "\n",
    "- Весь пайплайн обучения должен быть написан на PyTorch. При этом вы можете пользоваться другими библиотеками (`numpy`, `sklearn` и пр.), но только для обработки данных. То есть как угодно трансформировать данные и считать метрики с помощью этих библиотек можно, а импортировать модели из `sklearn` и выбивать с их помощью требуемое качество &mdash; нельзя. Также нельзя пользоваться библиотеками, для которых сам PyTorch является зависимостью.\n",
    "\n",
    "- Мы никак не ограничиваем ваш выбор архитектуры модели, но скорее всего вам будет достаточно полносвязной нейронной сети.\n",
    "\n",
    "- Для обучения запрещается использовать какие-либо иные данные, кроме обучающей выборки.\n",
    "\n",
    "- Ансамблирование моделей запрещено.\n",
    "\n",
    "### Полезные советы:\n",
    "\n",
    "- Очень вряд ли, что у вас с первого раза получится выбить качество на 10 баллов, поэтому пробуйте разные архитектуры, оптимизаторы и значения гиперпараметров. В идеале при запуске каждого нового эксперимента вы должны менять что-то одно, чтобы точно знать, как этот фактор влияет на качество.\n",
    "\n",
    "- Тот факт, что мы занимаемся глубинным обучением, не означает, что стоит забывать про приемы, использующиеся в классическом машинном обучении. Так что обязательно проводите исследовательский анализ данных, отрисовывайте нужные графики и не забывайте про масштабирование и подбор гиперпараметров.\n",
    "\n",
    "- Вы наверняка столкнетесь с тем, что ваша нейронная сеть будет сильно переобучаться. Для нейросетей существуют специальные методы регуляризации, например, dropout ([статья](https://jmlr.org/papers/volume15/srivastava14a/srivastava14a.pdf)) и weight decay ([блогпост](https://towardsdatascience.com/weight-decay-l2-regularization-90a9e17713cd)). Они, разумеется, реализованы в PyTorch. Попробуйте поэкспериментировать с ними.\n",
    "\n",
    "- Если вы чего-то не знайте, не гнушайтесь гуглить. В интернете очень много полезной информации, туториалов и советов по глубинному обучению в целом и по PyTorch в частности. Но не забывайте, что за скатанный код без ссылки на источник придется ответить по всей строгости!\n",
    "\n",
    "- Если вы сразу реализуете обучение на GPU, то у вас будет больше времени на эксперименты, так как любые вычисления будут работать быстрее. Google Colab предоставляет несколько GPU-часов (обычно около 8-10) в сутки бесплатно.\n",
    "\n",
    "- Чтобы отладить код, можете обучаться на небольшой части данных или даже на одном батче. Если лосс на обучающей выборке не падает, то что-то точно идет не так!\n",
    "\n",
    "- Пользуйтесь утилитами, которые вам предоставляет PyTorch (например, Dataset и Dataloader). Их специально разработали для упрощения разработки пайплайна обучения.\n",
    "\n",
    "- Скорее всего вы захотите отслеживать прогресс обучения. Для создания прогресс-баров есть удобная библиотека `tqdm`.\n",
    "\n",
    "- Быть может, вы захотите, чтобы графики рисовались прямо во время обучения. Можете воспользоваться функцией [clear_output](http://ipython.org/ipython-doc/dev/api/generated/IPython.display.html#IPython.display.clear_output), чтобы удалять старый график и рисовать новый на его месте.\n",
    "\n",
    "**ОБЯЗАТЕЛЬНО** рисуйте графики зависимости лосса/метрики на обучающей и тестовой выборках в зависимости от времени обучения. Если обучение занимает относительно небольшое число эпох, то лучше рисовать зависимость от номера шага обучения, если же эпох больше, то рисуйте зависимость по эпохам. Если проверяющий не увидит такого графика для вашей лучшей модели, то он в праве снизить баллы за задание.\n",
    "\n",
    "**ВАЖНО!** Ваше решение должно быть воспроизводимым. Если это не так, то проверяющий имеет право снизить баллы за задание. Чтобы зафиксировать random seed, воспользуйтесь функцией из ячейки ниже.\n",
    "\n"
   ]
  },
  {
   "cell_type": "code",
   "execution_count": 124,
   "metadata": {
    "executionInfo": {
     "elapsed": 330,
     "status": "ok",
     "timestamp": 1635451822557,
     "user": {
      "displayName": "Никита Бекетов",
      "photoUrl": "https://lh3.googleusercontent.com/a-/AOh14GioThM8Asm0C9k6A3K7Q3tJARyJV1loB6CCxWz_=s64",
      "userId": "17047624118884984806"
     },
     "user_tz": -180
    },
    "id": "VaMButDmEKKw"
   },
   "outputs": [],
   "source": [
    "def set_random_seed(seed):\n",
    "    torch.backends.cudnn.deterministic = True\n",
    "    torch.manual_seed(seed)\n",
    "    torch.cuda.manual_seed(seed)\n",
    "    np.random.seed(seed)\n",
    "    random.seed(seed)"
   ]
  },
  {
   "cell_type": "markdown",
   "metadata": {
    "id": "TZW0gMe3vT8u"
   },
   "source": [
    "Вы можете придерживаться любой адекватной струкуры кода, но мы советуем воспользоваться следующими сигнатурами функций. Лучше всего, если вы проверите ваши предсказания ассертом: так вы убережете себя от разных косяков, например, что вектор предсказаний состоит из всего одного числа. В любом случае, внимательно следите за тем, для каких тензоров вы считаете метрику RMSE. При случайном или намеренном введении в заблуждение проверяющие очень сильно разозлятся."
   ]
  },
  {
   "cell_type": "code",
   "execution_count": 125,
   "metadata": {
    "executionInfo": {
     "elapsed": 1127,
     "status": "ok",
     "timestamp": 1635451824791,
     "user": {
      "displayName": "Никита Бекетов",
      "photoUrl": "https://lh3.googleusercontent.com/a-/AOh14GioThM8Asm0C9k6A3K7Q3tJARyJV1loB6CCxWz_=s64",
      "userId": "17047624118884984806"
     },
     "user_tz": -180
    },
    "id": "GxY3Sh5Wqran"
   },
   "outputs": [],
   "source": [
    "ss = StandardScaler()\n",
    "X_train = ss.fit_transform(X_train)\n",
    "X_test = ss.transform(X_test)"
   ]
  },
  {
   "cell_type": "code",
   "execution_count": 126,
   "metadata": {
    "executionInfo": {
     "elapsed": 6,
     "status": "ok",
     "timestamp": 1635451824792,
     "user": {
      "displayName": "Никита Бекетов",
      "photoUrl": "https://lh3.googleusercontent.com/a-/AOh14GioThM8Asm0C9k6A3K7Q3tJARyJV1loB6CCxWz_=s64",
      "userId": "17047624118884984806"
     },
     "user_tz": -180
    },
    "id": "ub0ntLTSqsNM"
   },
   "outputs": [],
   "source": [
    "ss2 = StandardScaler()\n",
    "y_train = ss2.fit_transform(y_train[:, None]).reshape(-1)\n",
    "y_test = ss2.transform(y_test[:, None]).reshape(-1)"
   ]
  },
  {
   "cell_type": "code",
   "execution_count": 127,
   "metadata": {
    "executionInfo": {
     "elapsed": 356,
     "status": "ok",
     "timestamp": 1635451826867,
     "user": {
      "displayName": "Никита Бекетов",
      "photoUrl": "https://lh3.googleusercontent.com/a-/AOh14GioThM8Asm0C9k6A3K7Q3tJARyJV1loB6CCxWz_=s64",
      "userId": "17047624118884984806"
     },
     "user_tz": -180
    },
    "id": "iKjI34oneMyE"
   },
   "outputs": [],
   "source": [
    "# Constants\n",
    "SEED = 50 # random seed for reproducibility \n",
    "LR = 1e-3 # learning rate, controls the speed of the training \n",
    "WEIGHT_DECAY = 1e-3 # lambda for L2 reg. () \n",
    "NUM_EPOCHS = 10 # num training epochs (how many times each instance will be processed) \n",
    "GAMMA = 0.9995 # learning rate scheduler parameter \n",
    "BATCH_SIZE = 128 # training batch size \n",
    "EVAL_BATCH_SIZE = 300 # evaluation batch size. \n",
    "DEVICE = 'cpu' #'cuda' # device to make the calculations on"
   ]
  },
  {
   "cell_type": "code",
   "execution_count": 128,
   "metadata": {
    "executionInfo": {
     "elapsed": 760,
     "status": "ok",
     "timestamp": 1635451828627,
     "user": {
      "displayName": "Никита Бекетов",
      "photoUrl": "https://lh3.googleusercontent.com/a-/AOh14GioThM8Asm0C9k6A3K7Q3tJARyJV1loB6CCxWz_=s64",
      "userId": "17047624118884984806"
     },
     "user_tz": -180
    },
    "id": "S_mA1oUko84a"
   },
   "outputs": [],
   "source": [
    "X_train, X_val, y_train, y_val = train_test_split(X_train, y_train, test_size = 0.2, random_state = SEED)"
   ]
  },
  {
   "cell_type": "code",
   "execution_count": 129,
   "metadata": {
    "executionInfo": {
     "elapsed": 6,
     "status": "ok",
     "timestamp": 1635451829720,
     "user": {
      "displayName": "Никита Бекетов",
      "photoUrl": "https://lh3.googleusercontent.com/a-/AOh14GioThM8Asm0C9k6A3K7Q3tJARyJV1loB6CCxWz_=s64",
      "userId": "17047624118884984806"
     },
     "user_tz": -180
    },
    "id": "OdDBj5wHAicH"
   },
   "outputs": [],
   "source": [
    "class MyDataset(Dataset):\n",
    "    def __init__(self, X, y):\n",
    "        super().__init__() # to initialize the parent class\n",
    "        self.X = X\n",
    "        self.y = y\n",
    "        self.len = len(X)\n",
    "\n",
    "    def __len__(self): # We use __func__ for implementing in-built python functions\n",
    "        return self.len\n",
    "\n",
    "    def __getitem__(self, index):\n",
    "        return self.X[index], self.y[index]"
   ]
  },
  {
   "cell_type": "code",
   "execution_count": 130,
   "metadata": {
    "executionInfo": {
     "elapsed": 308,
     "status": "ok",
     "timestamp": 1635451832550,
     "user": {
      "displayName": "Никита Бекетов",
      "photoUrl": "https://lh3.googleusercontent.com/a-/AOh14GioThM8Asm0C9k6A3K7Q3tJARyJV1loB6CCxWz_=s64",
      "userId": "17047624118884984806"
     },
     "user_tz": -180
    },
    "id": "peomNjMWbkSz"
   },
   "outputs": [],
   "source": [
    "train_set = MyDataset(X_train, y_train)\n",
    "train_loader = torch.utils.data.DataLoader(\n",
    "    train_set,\n",
    "    batch_size = BATCH_SIZE,\n",
    "    shuffle = True\n",
    ")\n",
    "\n",
    "test_set = MyDataset(X_test, y_test)\n",
    "test_loader = torch.utils.data.DataLoader(\n",
    "    test_set,\n",
    "    batch_size = BATCH_SIZE,\n",
    "    shuffle = True\n",
    ")\n",
    "\n",
    "val_set = MyDataset(X_val, y_val)\n",
    "val_loader = torch.utils.data.DataLoader(\n",
    "    val_set,\n",
    "    batch_size = BATCH_SIZE,\n",
    "    shuffle = True\n",
    ")\n",
    "\n",
    "dls = {'train': train_loader, 'val': val_loader, 'test': test_loader}\n",
    "\n",
    "class Model(nn.Module):\n",
    "    def __init__(self, in_features = 90, out_features = 1):\n",
    "        super().__init__()\n",
    "        self.in_features = in_features\n",
    "        self.out_features = out_features\n",
    "        self.hidden_size = 100\n",
    "\n",
    "        self.sequential = nn.Sequential( # NN architecure, where the modules modify the data sequentially\n",
    "            nn.Linear(in_features, self.hidden_size), # Linear transformation\n",
    "            nn.ReLU(), # Activation function \n",
    "            nn.Linear(self.hidden_size, self.hidden_size), # Linear transformation\n",
    "            nn.ReLU(),\n",
    "            nn.Linear(self.hidden_size, 50), # Linear transformation\n",
    "            nn.ReLU(),\n",
    "            nn.Linear(50, self.out_features) # Another Linear transformation\n",
    "\n",
    "        )\n",
    "\n",
    "    def forward(self, x): # In the forward function, you define how your model runs, from input to output \n",
    "        x = self.sequential(x)\n",
    "        return x\n",
    "\n",
    "model = Model()\n",
    "model.to(DEVICE)\n",
    "\n",
    "loss_fn = nn.MSELoss()\n",
    "optimizer = torch.optim.AdamW(model.parameters(), lr=LR, weight_decay=WEIGHT_DECAY)\n",
    "criterion = torch.optim.lr_scheduler.ExponentialLR(optimizer, gamma=GAMMA)\n",
    "set_random_seed(SEED)"
   ]
  },
  {
   "cell_type": "code",
   "execution_count": 131,
   "metadata": {
    "executionInfo": {
     "elapsed": 371,
     "status": "ok",
     "timestamp": 1635451835682,
     "user": {
      "displayName": "Никита Бекетов",
      "photoUrl": "https://lh3.googleusercontent.com/a-/AOh14GioThM8Asm0C9k6A3K7Q3tJARyJV1loB6CCxWz_=s64",
      "userId": "17047624118884984806"
     },
     "user_tz": -180
    },
    "id": "ftKJtC5xJ_TX"
   },
   "outputs": [],
   "source": [
    "metrics_dict = {\n",
    "    \"Epoch\": [],\n",
    "    \"Train RMSE\": [],\n",
    "    \"Val RMSE\": [],\n",
    "  }"
   ]
  },
  {
   "cell_type": "code",
   "execution_count": 132,
   "metadata": {
    "executionInfo": {
     "elapsed": 336,
     "status": "ok",
     "timestamp": 1635451837919,
     "user": {
      "displayName": "Никита Бекетов",
      "photoUrl": "https://lh3.googleusercontent.com/a-/AOh14GioThM8Asm0C9k6A3K7Q3tJARyJV1loB6CCxWz_=s64",
      "userId": "17047624118884984806"
     },
     "user_tz": -180
    },
    "id": "VTrCxtdBv7xY"
   },
   "outputs": [],
   "source": [
    "def rmse(preds, y_true):\n",
    "        return ((preds - y_true) ** 2).mean() ** (1/2)\n",
    "\n",
    "        \n",
    "def eval_loop(model, X_val, X_test, y_val, y_test, model_is_nn=True, model_name=\"NN\"):\n",
    "        print(f\"Model {model_name}\")\n",
    "        for name, x_eval, y_eval in zip(['val', 'test'], [X_val, X_test], [y_val, y_test]):\n",
    "            if model_is_nn:\n",
    "                with torch.no_grad():\n",
    "                    preds = model(torch.Tensor(x_eval)).view(-1)\n",
    "            else:\n",
    "                model.fit(X_train, y_train)\n",
    "                preds = model.predict(x_eval)\n",
    "            # Don't forget to rescale the results back to measure loss in original space\n",
    "            preds_rescheduled = preds * ss2.scale_ + ss2.mean_\n",
    "            y_eval_rescheduled = y_eval * ss2.scale_ + ss2.mean_\n",
    "            rmse_val = rmse(preds_rescheduled, y_eval_rescheduled)\n",
    "            print(f'{name}: RMSE = {rmse_val:.2f}')\n",
    "        return preds_rescheduled"
   ]
  },
  {
   "cell_type": "code",
   "execution_count": 133,
   "metadata": {
    "executionInfo": {
     "elapsed": 332,
     "status": "ok",
     "timestamp": 1635451840317,
     "user": {
      "displayName": "Никита Бекетов",
      "photoUrl": "https://lh3.googleusercontent.com/a-/AOh14GioThM8Asm0C9k6A3K7Q3tJARyJV1loB6CCxWz_=s64",
      "userId": "17047624118884984806"
     },
     "user_tz": -180
    },
    "id": "8Wmxrf5Qveux"
   },
   "outputs": [],
   "source": [
    "def train(model, optimizer, criterion, train_loader, test_loader):\n",
    "    '''\n",
    "    params:\n",
    "        model - torch.nn.Module to be fitted\n",
    "        optimizer - model optimizer\n",
    "        criterion - loss function from torch.nn\n",
    "        train_loader - torch.utils.data.Dataloader with train set\n",
    "        test_loader - torch.utils.data.Dataloader with test set\n",
    "                      (if you wish to validate during training)\n",
    "    '''\n",
    "\n",
    "\n",
    "    train_losses = []\n",
    "    train_accuracies = []\n",
    "\n",
    "  # Train loop\n",
    "    for epoch in tqdm(range(NUM_EPOCHS)):\n",
    "      metrics_dict[\"Epoch\"].append(epoch)\n",
    "      for stage in ['train', 'val']:\n",
    "          with torch.set_grad_enabled(stage == 'train'): # Whether to start building a graph for a backward pass\n",
    "              if stage == 'train':\n",
    "                  model.train()\n",
    "              else:\n",
    "                  model.eval()\n",
    "\n",
    "              loss_at_stage = 0 \n",
    "              for batch in dls[stage]:\n",
    "                  x_batch, y_batch = batch\n",
    "                  x_batch, y_batch = x_batch.to(DEVICE), y_batch.to(DEVICE)\n",
    "\n",
    "                  y_pred = model(x_batch.float()).view(-1) \n",
    "                  loss = loss_fn(y_pred, y_batch.float())\n",
    "                  if stage == \"train\":\n",
    "                      loss.backward() # Calculate the gradients of all the parameters wrt loss\n",
    "                      optimizer.step() # Update the parameters\n",
    "                      criterion.step()\n",
    "                      optimizer.zero_grad() # Zero the saved gradient\n",
    "                  with torch.no_grad():\n",
    "                      loss_at_stage += (torch.square((y_pred - y_batch) * ss2.scale_).sum()).item()\n",
    "              rmse_at_stage = (loss_at_stage / len(dls[stage].dataset)) ** (1/2)\n",
    "              metrics_dict[f\"{stage.title()} RMSE\"].append(rmse_at_stage)\n",
    "    \n",
    "      clear_output(wait=True)\n",
    "      display(pd.DataFrame(metrics_dict))\n",
    "\n",
    "\n",
    "      #raise NotImplementedError\n",
    "      \n",
    "\n",
    "def test(model, criterion, test_loader):\n",
    "    '''\n",
    "    params:\n",
    "        model - torch.nn.Module to be evaluated on test set\n",
    "        criterion - loss function from torch.nn\n",
    "        test_loader - torch.utils.data.Dataloader with test set\n",
    "    ----------\n",
    "    returns:\n",
    "        predicts - torch.tensor with shape (len(test_loader.dataset), ),\n",
    "                   which contains predictions for test objects\n",
    "    '''\n",
    "    predicts = eval_loop(model, X_val, X_test, y_val, y_test, model_is_nn=True, model_name=\"NN\")\n",
    "    return predicts"
   ]
  },
  {
   "cell_type": "code",
   "execution_count": 134,
   "metadata": {
    "colab": {
     "base_uri": "https://localhost:8080/",
     "height": 359,
     "referenced_widgets": [
      "204e6101e2764cf69ade08fef55a27d4",
      "cb54b73664dd4e19babbb987e3e13d90",
      "85e82a80b77c4ff98dce648b50ed9fee",
      "3f7203f714ff4e1ea32e9e528714c772",
      "4829b087755646bea3c7f15827dc5518",
      "c329441d0e58468cac962059e19217ee",
      "02841250b5704b47b6da2694c1d96597",
      "ab9a609e6497474a8360c02e2f6050f7",
      "63441c12a6ca4bc1874adb79b3a479f6",
      "bec0e5e2fb3a4fe68674451dc657518b",
      "51547061108940208969e45c3f32cef9"
     ]
    },
    "executionInfo": {
     "elapsed": 86861,
     "status": "ok",
     "timestamp": 1635451930490,
     "user": {
      "displayName": "Никита Бекетов",
      "photoUrl": "https://lh3.googleusercontent.com/a-/AOh14GioThM8Asm0C9k6A3K7Q3tJARyJV1loB6CCxWz_=s64",
      "userId": "17047624118884984806"
     },
     "user_tz": -180
    },
    "id": "8PYwfKNebuXy",
    "outputId": "8c7a6071-f07a-4115-f033-6d8edf531745"
   },
   "outputs": [
    {
     "data": {
      "text/html": [
       "<div>\n",
       "<style scoped>\n",
       "    .dataframe tbody tr th:only-of-type {\n",
       "        vertical-align: middle;\n",
       "    }\n",
       "\n",
       "    .dataframe tbody tr th {\n",
       "        vertical-align: top;\n",
       "    }\n",
       "\n",
       "    .dataframe thead th {\n",
       "        text-align: right;\n",
       "    }\n",
       "</style>\n",
       "<table border=\"1\" class=\"dataframe\">\n",
       "  <thead>\n",
       "    <tr style=\"text-align: right;\">\n",
       "      <th></th>\n",
       "      <th>Epoch</th>\n",
       "      <th>Train RMSE</th>\n",
       "      <th>Val RMSE</th>\n",
       "    </tr>\n",
       "  </thead>\n",
       "  <tbody>\n",
       "    <tr>\n",
       "      <th>0</th>\n",
       "      <td>0</td>\n",
       "      <td>8.905138</td>\n",
       "      <td>8.771154</td>\n",
       "    </tr>\n",
       "    <tr>\n",
       "      <th>1</th>\n",
       "      <td>1</td>\n",
       "      <td>8.613275</td>\n",
       "      <td>8.716580</td>\n",
       "    </tr>\n",
       "    <tr>\n",
       "      <th>2</th>\n",
       "      <td>2</td>\n",
       "      <td>8.549047</td>\n",
       "      <td>8.708929</td>\n",
       "    </tr>\n",
       "    <tr>\n",
       "      <th>3</th>\n",
       "      <td>3</td>\n",
       "      <td>8.531496</td>\n",
       "      <td>8.707850</td>\n",
       "    </tr>\n",
       "    <tr>\n",
       "      <th>4</th>\n",
       "      <td>4</td>\n",
       "      <td>8.527184</td>\n",
       "      <td>8.707441</td>\n",
       "    </tr>\n",
       "    <tr>\n",
       "      <th>5</th>\n",
       "      <td>5</td>\n",
       "      <td>8.526052</td>\n",
       "      <td>8.707373</td>\n",
       "    </tr>\n",
       "    <tr>\n",
       "      <th>6</th>\n",
       "      <td>6</td>\n",
       "      <td>8.525787</td>\n",
       "      <td>8.707365</td>\n",
       "    </tr>\n",
       "    <tr>\n",
       "      <th>7</th>\n",
       "      <td>7</td>\n",
       "      <td>8.525724</td>\n",
       "      <td>8.707363</td>\n",
       "    </tr>\n",
       "    <tr>\n",
       "      <th>8</th>\n",
       "      <td>8</td>\n",
       "      <td>8.525710</td>\n",
       "      <td>8.707363</td>\n",
       "    </tr>\n",
       "    <tr>\n",
       "      <th>9</th>\n",
       "      <td>9</td>\n",
       "      <td>8.525708</td>\n",
       "      <td>8.707363</td>\n",
       "    </tr>\n",
       "  </tbody>\n",
       "</table>\n",
       "</div>"
      ],
      "text/plain": [
       "   Epoch  Train RMSE  Val RMSE\n",
       "0      0    8.905138  8.771154\n",
       "1      1    8.613275  8.716580\n",
       "2      2    8.549047  8.708929\n",
       "3      3    8.531496  8.707850\n",
       "4      4    8.527184  8.707441\n",
       "5      5    8.526052  8.707373\n",
       "6      6    8.525787  8.707365\n",
       "7      7    8.525724  8.707363\n",
       "8      8    8.525710  8.707363\n",
       "9      9    8.525708  8.707363"
      ]
     },
     "metadata": {},
     "output_type": "display_data"
    }
   ],
   "source": [
    "train(model, optimizer, criterion, train_loader, test_loader)"
   ]
  },
  {
   "cell_type": "code",
   "execution_count": 135,
   "metadata": {
    "colab": {
     "base_uri": "https://localhost:8080/"
    },
    "executionInfo": {
     "elapsed": 695,
     "status": "ok",
     "timestamp": 1635451944593,
     "user": {
      "displayName": "Никита Бекетов",
      "photoUrl": "https://lh3.googleusercontent.com/a-/AOh14GioThM8Asm0C9k6A3K7Q3tJARyJV1loB6CCxWz_=s64",
      "userId": "17047624118884984806"
     },
     "user_tz": -180
    },
    "id": "4PVEXDgD6Swj",
    "outputId": "559feb4e-cd27-4540-ac1e-920d4e1b696f"
   },
   "outputs": [
    {
     "name": "stdout",
     "output_type": "stream",
     "text": [
      "Model NN\n",
      "val: RMSE = 8.71\n",
      "test: RMSE = 8.80\n"
     ]
    }
   ],
   "source": [
    "assert test(model, criterion, test_loader).shape[0] == y_test.shape[0]"
   ]
  },
  {
   "cell_type": "code",
   "execution_count": 136,
   "metadata": {
    "colab": {
     "base_uri": "https://localhost:8080/",
     "height": 606
    },
    "executionInfo": {
     "elapsed": 907,
     "status": "ok",
     "timestamp": 1635451948258,
     "user": {
      "displayName": "Никита Бекетов",
      "photoUrl": "https://lh3.googleusercontent.com/a-/AOh14GioThM8Asm0C9k6A3K7Q3tJARyJV1loB6CCxWz_=s64",
      "userId": "17047624118884984806"
     },
     "user_tz": -180
    },
    "id": "5zSesNDqGNiL",
    "outputId": "470db476-c252-41d2-864a-2a355010ed6b"
   },
   "outputs": [
    {
     "data": {
      "image/png": "[encoded data removed]",
      "text/plain": [
       "<Figure size 1440x720 with 1 Axes>"
      ]
     },
     "metadata": {
      "needs_background": "light"
     },
     "output_type": "display_data"
    }
   ],
   "source": [
    "plt.figure(figsize=(20,10)) \n",
    "plt.plot(metrics_dict['Val RMSE'], label='Val') \n",
    "plt.plot(metrics_dict['Train RMSE'], label='Train') \n",
    "plt.ylabel('MSE') \n",
    "plt.xlabel('Количество эпох') \n",
    "plt.legend() \n",
    "plt.yscale('log') \n",
    "plt.show()"
   ]
  },
  {
   "cell_type": "markdown",
   "metadata": {
    "id": "bine9EES6TIn"
   },
   "source": [
    "## Задание 2. (0 баллов, но при невыполнении максимум за все задание &mdash; 0 баллов)\n",
    "\n",
    "Напишите небольшой отчет о том, как вы добились полученного качества: какие средства использовали и какие эксперименты проводили. Подробно расскажите об архитектурах и значениях гиперпараметров, а также какие метрики на тесте они показывали. Чтобы отчет был зачтен, необходимо привести хотя бы 3 эксперимента."
   ]
  },
  {
   "cell_type": "markdown",
   "metadata": {
    "id": "LuP_6BHuyxMB"
   },
   "source": [
    "1) Изначально модель выглядила так, но я добавил еще слоев, без этого rmse была около 9.00\n"
   ]
  },
  {
   "cell_type": "code",
   "execution_count": null,
   "metadata": {
    "id": "bk5pEwa66UZn"
   },
   "outputs": [],
   "source": [
    "class Model(nn.Module):\n",
    "    def __init__(self, in_features = 36, out_features = 1):\n",
    "        super().__init__()\n",
    "        self.in_features = in_features\n",
    "        self.out_features = out_features\n",
    "        self.hidden_size = int(np.sqrt(in_features + out_features))\n",
    "\n",
    "        self.sequential = nn.Sequential( # NN architecure, where the modules modify the data sequentially\n",
    "            nn.Linear(in_features, self.hidden_size), # Linear transformation\n",
    "            nn.ReLU(), # Activation function \n",
    "            nn.Linear(self.hidden_size, self.out_features) # Another Linear transformation\n",
    "        )\n",
    "\n",
    "    def forward(self, x): # In the forward function, you define how your model runs, from input to output \n",
    "        x = self.sequential(x)\n",
    "        return x"
   ]
  },
  {
   "cell_type": "markdown",
   "metadata": {
    "id": "3Dd-Tz0jzEWY"
   },
   "source": [
    "2) Было изменено значение LR = 1e-3 # learning rate, controls the speed of the training\n",
    "\n"
   ]
  },
  {
   "cell_type": "markdown",
   "metadata": {
    "id": "JO9bBFXmznoA"
   },
   "source": [
    "3) Было изменено значение WEIGHT_DECAY = 1e-3 # lambda for L2 reg. ()\n"
   ]
  },
  {
   "cell_type": "markdown",
   "metadata": {
    "id": "KHhb9ymAz4ji"
   },
   "source": [
    "Изначальные значения: WEIGHT_DECAY = 1e-2, LR = 3e-2 (ошибка стала 8.88)\n"
   ]
  },
  {
   "cell_type": "markdown",
   "metadata": {
    "id": "QrYp7zfkdHy-"
   },
   "source": [
    "4) Было изменено значение BATCH_SIZE = 128 # training batch size\n",
    "\n"
   ]
  },
  {
   "cell_type": "markdown",
   "metadata": {
    "id": "Ta9wK8jZdTKF"
   },
   "source": [
    "Изначальное значение BATCH_SIZE = 32 (ошибка стала 8.80)"
   ]
  },
  {
   "cell_type": "markdown",
   "metadata": {
    "id": "euGp6s7abbux"
   },
   "source": [
    "5) Так же было несколько вариантов значения NUM_EPOCHS, но за оптимальное я выбрал 10"
   ]
  }
 ],
 "metadata": {
  "colab": {
   "collapsed_sections": [],
   "name": "intro_hw01 (1).ipynb",
   "provenance": []
  },
  "kernelspec": {
   "display_name": "Python 3 (ipykernel)",
   "language": "python",
   "name": "python3"
  },
  "language_info": {
   "codemirror_mode": {
    "name": "ipython",
    "version": 3
   },
   "file_extension": ".py",
   "mimetype": "text/x-python",
   "name": "python",
   "nbconvert_exporter": "python",
   "pygments_lexer": "ipython3",
   "version": "3.9.5"
  },
  "widgets": {
   "application/vnd.jupyter.widget-state+json": {
    "02841250b5704b47b6da2694c1d96597": {
     "model_module": "@jupyter-widgets/base",
     "model_module_version": "1.2.0",
     "model_name": "LayoutModel",
     "state": {
      "_model_module": "@jupyter-widgets/base",
      "_model_module_version": "1.2.0",
      "_model_name": "LayoutModel",
      "_view_count": null,
      "_view_module": "@jupyter-widgets/base",
      "_view_module_version": "1.2.0",
      "_view_name": "LayoutView",
      "align_content": null,
      "align_items": null,
      "align_self": null,
      "border": null,
      "bottom": null,
      "display": null,
      "flex": null,
      "flex_flow": null,
      "grid_area": null,
      "grid_auto_columns": null,
      "grid_auto_flow": null,
      "grid_auto_rows": null,
      "grid_column": null,
      "grid_gap": null,
      "grid_row": null,
      "grid_template_areas": null,
      "grid_template_columns": null,
      "grid_template_rows": null,
      "height": null,
      "justify_content": null,
      "justify_items": null,
      "left": null,
      "margin": null,
      "max_height": null,
      "max_width": null,
      "min_height": null,
      "min_width": null,
      "object_fit": null,
      "object_position": null,
      "order": null,
      "overflow": null,
      "overflow_x": null,
      "overflow_y": null,
      "padding": null,
      "right": null,
      "top": null,
      "visibility": null,
      "width": null
     }
    },
    "204e6101e2764cf69ade08fef55a27d4": {
     "model_module": "@jupyter-widgets/controls",
     "model_module_version": "1.5.0",
     "model_name": "HBoxModel",
     "state": {
      "_dom_classes": [],
      "_model_module": "@jupyter-widgets/controls",
      "_model_module_version": "1.5.0",
      "_model_name": "HBoxModel",
      "_view_count": null,
      "_view_module": "@jupyter-widgets/controls",
      "_view_module_version": "1.5.0",
      "_view_name": "HBoxView",
      "box_style": "",
      "children": [
       "IPY_MODEL_85e82a80b77c4ff98dce648b50ed9fee",
       "IPY_MODEL_3f7203f714ff4e1ea32e9e528714c772",
       "IPY_MODEL_4829b087755646bea3c7f15827dc5518"
      ],
      "layout": "IPY_MODEL_cb54b73664dd4e19babbb987e3e13d90"
     }
    },
    "3f7203f714ff4e1ea32e9e528714c772": {
     "model_module": "@jupyter-widgets/controls",
     "model_module_version": "1.5.0",
     "model_name": "FloatProgressModel",
     "state": {
      "_dom_classes": [],
      "_model_module": "@jupyter-widgets/controls",
      "_model_module_version": "1.5.0",
      "_model_name": "FloatProgressModel",
      "_view_count": null,
      "_view_module": "@jupyter-widgets/controls",
      "_view_module_version": "1.5.0",
      "_view_name": "ProgressView",
      "bar_style": "success",
      "description": "",
      "description_tooltip": null,
      "layout": "IPY_MODEL_63441c12a6ca4bc1874adb79b3a479f6",
      "max": 10,
      "min": 0,
      "orientation": "horizontal",
      "style": "IPY_MODEL_ab9a609e6497474a8360c02e2f6050f7",
      "value": 10
     }
    },
    "4829b087755646bea3c7f15827dc5518": {
     "model_module": "@jupyter-widgets/controls",
     "model_module_version": "1.5.0",
     "model_name": "HTMLModel",
     "state": {
      "_dom_classes": [],
      "_model_module": "@jupyter-widgets/controls",
      "_model_module_version": "1.5.0",
      "_model_name": "HTMLModel",
      "_view_count": null,
      "_view_module": "@jupyter-widgets/controls",
      "_view_module_version": "1.5.0",
      "_view_name": "HTMLView",
      "description": "",
      "description_tooltip": null,
      "layout": "IPY_MODEL_51547061108940208969e45c3f32cef9",
      "placeholder": "​",
      "style": "IPY_MODEL_bec0e5e2fb3a4fe68674451dc657518b",
      "value": " 10/10 [01:26&lt;00:00,  8.65s/it]"
     }
    },
    "51547061108940208969e45c3f32cef9": {
     "model_module": "@jupyter-widgets/base",
     "model_module_version": "1.2.0",
     "model_name": "LayoutModel",
     "state": {
      "_model_module": "@jupyter-widgets/base",
      "_model_module_version": "1.2.0",
      "_model_name": "LayoutModel",
      "_view_count": null,
      "_view_module": "@jupyter-widgets/base",
      "_view_module_version": "1.2.0",
      "_view_name": "LayoutView",
      "align_content": null,
      "align_items": null,
      "align_self": null,
      "border": null,
      "bottom": null,
      "display": null,
      "flex": null,
      "flex_flow": null,
      "grid_area": null,
      "grid_auto_columns": null,
      "grid_auto_flow": null,
      "grid_auto_rows": null,
      "grid_column": null,
      "grid_gap": null,
      "grid_row": null,
      "grid_template_areas": null,
      "grid_template_columns": null,
      "grid_template_rows": null,
      "height": null,
      "justify_content": null,
      "justify_items": null,
      "left": null,
      "margin": null,
      "max_height": null,
      "max_width": null,
      "min_height": null,
      "min_width": null,
      "object_fit": null,
      "object_position": null,
      "order": null,
      "overflow": null,
      "overflow_x": null,
      "overflow_y": null,
      "padding": null,
      "right": null,
      "top": null,
      "visibility": null,
      "width": null
     }
    },
    "63441c12a6ca4bc1874adb79b3a479f6": {
     "model_module": "@jupyter-widgets/base",
     "model_module_version": "1.2.0",
     "model_name": "LayoutModel",
     "state": {
      "_model_module": "@jupyter-widgets/base",
      "_model_module_version": "1.2.0",
      "_model_name": "LayoutModel",
      "_view_count": null,
      "_view_module": "@jupyter-widgets/base",
      "_view_module_version": "1.2.0",
      "_view_name": "LayoutView",
      "align_content": null,
      "align_items": null,
      "align_self": null,
      "border": null,
      "bottom": null,
      "display": null,
      "flex": null,
      "flex_flow": null,
      "grid_area": null,
      "grid_auto_columns": null,
      "grid_auto_flow": null,
      "grid_auto_rows": null,
      "grid_column": null,
      "grid_gap": null,
      "grid_row": null,
      "grid_template_areas": null,
      "grid_template_columns": null,
      "grid_template_rows": null,
      "height": null,
      "justify_content": null,
      "justify_items": null,
      "left": null,
      "margin": null,
      "max_height": null,
      "max_width": null,
      "min_height": null,
      "min_width": null,
      "object_fit": null,
      "object_position": null,
      "order": null,
      "overflow": null,
      "overflow_x": null,
      "overflow_y": null,
      "padding": null,
      "right": null,
      "top": null,
      "visibility": null,
      "width": null
     }
    },
    "85e82a80b77c4ff98dce648b50ed9fee": {
     "model_module": "@jupyter-widgets/controls",
     "model_module_version": "1.5.0",
     "model_name": "HTMLModel",
     "state": {
      "_dom_classes": [],
      "_model_module": "@jupyter-widgets/controls",
      "_model_module_version": "1.5.0",
      "_model_name": "HTMLModel",
      "_view_count": null,
      "_view_module": "@jupyter-widgets/controls",
      "_view_module_version": "1.5.0",
      "_view_name": "HTMLView",
      "description": "",
      "description_tooltip": null,
      "layout": "IPY_MODEL_02841250b5704b47b6da2694c1d96597",
      "placeholder": "​",
      "style": "IPY_MODEL_c329441d0e58468cac962059e19217ee",
      "value": "100%"
     }
    },
    "ab9a609e6497474a8360c02e2f6050f7": {
     "model_module": "@jupyter-widgets/controls",
     "model_module_version": "1.5.0",
     "model_name": "ProgressStyleModel",
     "state": {
      "_model_module": "@jupyter-widgets/controls",
      "_model_module_version": "1.5.0",
      "_model_name": "ProgressStyleModel",
      "_view_count": null,
      "_view_module": "@jupyter-widgets/base",
      "_view_module_version": "1.2.0",
      "_view_name": "StyleView",
      "bar_color": null,
      "description_width": ""
     }
    },
    "bec0e5e2fb3a4fe68674451dc657518b": {
     "model_module": "@jupyter-widgets/controls",
     "model_module_version": "1.5.0",
     "model_name": "DescriptionStyleModel",
     "state": {
      "_model_module": "@jupyter-widgets/controls",
      "_model_module_version": "1.5.0",
      "_model_name": "DescriptionStyleModel",
      "_view_count": null,
      "_view_module": "@jupyter-widgets/base",
      "_view_module_version": "1.2.0",
      "_view_name": "StyleView",
      "description_width": ""
     }
    },
    "c329441d0e58468cac962059e19217ee": {
     "model_module": "@jupyter-widgets/controls",
     "model_module_version": "1.5.0",
     "model_name": "DescriptionStyleModel",
     "state": {
      "_model_module": "@jupyter-widgets/controls",
      "_model_module_version": "1.5.0",
      "_model_name": "DescriptionStyleModel",
      "_view_count": null,
      "_view_module": "@jupyter-widgets/base",
      "_view_module_version": "1.2.0",
      "_view_name": "StyleView",
      "description_width": ""
     }
    },
    "cb54b73664dd4e19babbb987e3e13d90": {
     "model_module": "@jupyter-widgets/base",
     "model_module_version": "1.2.0",
     "model_name": "LayoutModel",
     "state": {
      "_model_module": "@jupyter-widgets/base",
      "_model_module_version": "1.2.0",
      "_model_name": "LayoutModel",
      "_view_count": null,
      "_view_module": "@jupyter-widgets/base",
      "_view_module_version": "1.2.0",
      "_view_name": "LayoutView",
      "align_content": null,
      "align_items": null,
      "align_self": null,
      "border": null,
      "bottom": null,
      "display": null,
      "flex": null,
      "flex_flow": null,
      "grid_area": null,
      "grid_auto_columns": null,
      "grid_auto_flow": null,
      "grid_auto_rows": null,
      "grid_column": null,
      "grid_gap": null,
      "grid_row": null,
      "grid_template_areas": null,
      "grid_template_columns": null,
      "grid_template_rows": null,
      "height": null,
      "justify_content": null,
      "justify_items": null,
      "left": null,
      "margin": null,
      "max_height": null,
      "max_width": null,
      "min_height": null,
      "min_width": null,
      "object_fit": null,
      "object_position": null,
      "order": null,
      "overflow": null,
      "overflow_x": null,
      "overflow_y": null,
      "padding": null,
      "right": null,
      "top": null,
      "visibility": null,
      "width": null
     }
    }
   }
  }
 },
 "nbformat": 4,
 "nbformat_minor": 1
}
